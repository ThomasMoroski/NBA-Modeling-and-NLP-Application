{
 "cells": [
  {
   "cell_type": "code",
   "execution_count": 22,
   "metadata": {},
   "outputs": [],
   "source": [
    "import sys\n",
    "import csv\n",
    "import tweepy\n",
    "import matplotlib.pyplot as plt\n",
    "\n",
    "from collections import Counter\n",
    "from aylienapiclient import textapi"
   ]
  },
  {
   "cell_type": "code",
   "execution_count": 23,
   "metadata": {},
   "outputs": [],
   "source": [
    "if sys.version_info[0] < 3:\n",
    "    input = raw_input"
   ]
  },
  {
   "cell_type": "code",
   "execution_count": 24,
   "metadata": {},
   "outputs": [],
   "source": [
    "#Twitter credentials\n",
    "consumer_key = 't3xypruG4wEJTgXVEP0yBKFtm'\n",
    "consumer_secret = 'VQFWR5rBQklsMYbouDwEJ8v9hOOOKoRnClinJRIkV2FQfotuNS'\n",
    "access_token = '1147496316718727169-RKKIpbDn3a1IdNNFM8SO2sTLJXFS4Y'\n",
    "access_token_secret = 'RTvsvTKFjPIzBZFrdOgyL7xSj8rJdcTqS6WpAp1yTGneS'"
   ]
  },
  {
   "cell_type": "code",
   "execution_count": 25,
   "metadata": {},
   "outputs": [],
   "source": [
    "#Aylien Credentials to call for the sentiment analysis\n",
    "application_id = 'ade8b2e4'\n",
    "application_key ='40f27d8331421cc35845d23cd5399360'"
   ]
  },
  {
   "cell_type": "code",
   "execution_count": 26,
   "metadata": {},
   "outputs": [],
   "source": [
    "#Setting up the usable instance of tweepy\n",
    "auth = tweepy.OAuthHandler(consumer_key, consumer_secret)\n",
    "auth.set_access_token(access_token, access_token_secret)\n",
    "api = tweepy.API(auth)"
   ]
  },
  {
   "cell_type": "code",
   "execution_count": 27,
   "metadata": {},
   "outputs": [],
   "source": [
    "#setting up an instance of the aylien text api\n",
    "client = textapi.Client(application_id, application_key)"
   ]
  },
  {
   "cell_type": "code",
   "execution_count": 28,
   "metadata": {},
   "outputs": [],
   "source": [
    "#searching twitter for something that interests you\n",
    "query = 'sixers' #input(\"What NBA team do you want to analyize? \\n\")\n",
    "number = 25 #input(\"what number of tweets do you want to pull from? \\n\")"
   ]
  },
  {
   "cell_type": "code",
   "execution_count": 29,
   "metadata": {},
   "outputs": [
    {
     "name": "stdout",
     "output_type": "stream",
     "text": [
      "--- Gathered Tweets /n\n"
     ]
    }
   ],
   "source": [
    "#Result type parameter identifies the tweet timeframe and can be set depending on the user needs\n",
    "#Language parameter can also be change accordingly\n",
    "results = api.search(\n",
    "    lang = 'en',\n",
    "    q = query + \" -rt\",\n",
    "    count = number,\n",
    "    result_type = \"recent\"\n",
    ")\n",
    "print(\"--- Gathered Tweets /n\")"
   ]
  },
  {
   "cell_type": "code",
   "execution_count": 39,
   "metadata": {},
   "outputs": [
    {
     "name": "stdout",
     "output_type": "stream",
     "text": [
      "--- Opened a CSV file to store the results of the sentiment analysis... \n",
      "\n",
      "Analyzed Tweet 1\n",
      "Analyzed Tweet 2\n",
      "Analyzed Tweet 3\n",
      "Analyzed Tweet 4\n",
      "Analyzed Tweet 5\n",
      "Analyzed Tweet 6\n",
      "Analyzed Tweet 7\n",
      "Analyzed Tweet 8\n",
      "Analyzed Tweet 9\n",
      "Analyzed Tweet 10\n",
      "Analyzed Tweet 11\n",
      "Analyzed Tweet 12\n",
      "Analyzed Tweet 13\n",
      "Analyzed Tweet 14\n",
      "Analyzed Tweet 15\n",
      "Analyzed Tweet 16\n",
      "Analyzed Tweet 17\n",
      "Analyzed Tweet 18\n",
      "Analyzed Tweet 19\n",
      "Analyzed Tweet 20\n",
      "Analyzed Tweet 21\n",
      "Analyzed Tweet 22\n",
      "Analyzed Tweet 23\n",
      "Analyzed Tweet 24\n",
      "Analyzed Tweet 25\n"
     ]
    },
    {
     "data": {
      "image/png": "[encoded data removed]",
      "text/plain": [
       "<Figure size 432x288 with 1 Axes>"
      ]
     },
     "metadata": {},
     "output_type": "display_data"
    }
   ],
   "source": [
    "#open a csv file to store the tweets and their sentiment\n",
    "file_name = \"Sentiment_Analysis_of_{}_Tweets_About_{}.csv\".format(number, query)\n",
    "#Creation of the csv file\n",
    "with open(file_name, 'w', newline='') as csvfile:\n",
    "    csv_writer = csv.DictWriter(\n",
    "        f = csvfile,\n",
    "        fieldnames = [\"Tweet\", \"Sentiment\"] #Creates two columns in the excel sheet one for tweets and the other for sentiments. The columns are blank to begin with and will later be filed\n",
    "    )\n",
    "    csv_writer.writeheader()\n",
    "    #Statusing the csv to allow the user that indeed a file has been created\n",
    "    print(\"--- Opened a CSV file to store the results of the sentiment analysis... \\n\")\n",
    "    #Goes line by line through the tweets identifying empty tweets\n",
    "    for c, result in enumerate(results, start = 1):\n",
    "        tweet = result.text\n",
    "        tidy_tweet = tweet.strip().encode('ascii', 'ignore')\n",
    "        \n",
    "        if len(tweet) == 0:\n",
    "            print('Empty Tweet')\n",
    "            continue\n",
    "        # Adds text and polarity into the excel sheet next to the respective tweet    \n",
    "        response = client.Sentiment({'text': tidy_tweet})\n",
    "        csv_writer.writerow({\n",
    "            'Tweet': response['text'],\n",
    "            'Sentiment': response['polarity']\n",
    "        })\n",
    "        print('Analyzed Tweet {}'.format(c))\n",
    "#The sentiment analysis does inplant numerical data on the spread sheet\n",
    "#In order to visual the results, negative, positive and neutral sentiment will be scored on a numerical basis \n",
    "with open(file_name, 'r') as data:\n",
    "    counter = Counter()\n",
    "    for row in csv.DictReader(data):\n",
    "        counter[row['Sentiment']] += 1\n",
    "    positive = counter['positive']\n",
    "    negative = counter['negative']\n",
    "    neutral = counter['neutral']\n",
    "colors = ['green','red','grey']\n",
    "sizes = [positive, negative, neutral]\n",
    "labels = 'Positive','Negative','Neutral'\n",
    "#Plots the numerical sentiment analysis data using the above parameters\n",
    "plt.pie(\n",
    "    x = sizes,\n",
    "    shadow=True,\n",
    "    colors = colors,\n",
    "    labels = labels,\n",
    "    startangle = 90\n",
    ")\n",
    "\n",
    "plt.title('Sentiment of {} Tweets about {}'.format(number, query))\n",
    "plt.show()"
   ]
  },
  {
   "cell_type": "code",
   "execution_count": null,
   "metadata": {},
   "outputs": [],
   "source": []
  }
 ],
 "metadata": {
  "kernelspec": {
   "display_name": "Python 3",
   "language": "python",
   "name": "python3"
  },
  "language_info": {
   "codemirror_mode": {
    "name": "ipython",
    "version": 3
   },
   "file_extension": ".py",
   "mimetype": "text/x-python",
   "name": "python",
   "nbconvert_exporter": "python",
   "pygments_lexer": "ipython3",
   "version": "3.7.3"
  }
 },
 "nbformat": 4,
 "nbformat_minor": 2
}
